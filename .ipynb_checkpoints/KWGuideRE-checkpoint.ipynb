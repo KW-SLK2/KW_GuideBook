{
 "cells": [
  {
   "cell_type": "code",
   "execution_count": 1,
   "metadata": {},
   "outputs": [],
   "source": [
    "from PIL import Image\n",
    "import os, glob, numpy as np #이미지 프로세싱\n",
    "from sklearn.model_selection import train_test_split #train set과 test set으로 분류 \n",
    "\n",
    "# 데이터셋 저장한 디렉토리\n",
    "base_dir = './KWGuideImg/dataset/train'\n",
    "categories=os.listdir(base_dir) #[\"기념\",\"화도\",\"옥의\",\"비마\",\"새빛\",\"참빛\",\"한울\",\"연구\"]\n",
    "nb_classes=len(categories) #class 개수 설정"
   ]
  },
  {
   "cell_type": "code",
   "execution_count": 2,
   "metadata": {},
   "outputs": [
    {
     "name": "stderr",
     "output_type": "stream",
     "text": [
      "Using TensorFlow backend.\n"
     ]
    }
   ],
   "source": [
    "from keras.preprocessing.image import ImageDataGenerator\n",
    "\n",
    "#ImageDataGenerator 클래스 사용\n",
    "# 학습 도중에 이미지 변형 가능\n",
    "\n",
    "datagen = ImageDataGenerator(\n",
    "    rotation_range=40, #이미지 회전 범위\n",
    "    width_shift_range=0.2, #그림 수평 or 수직으로 랜덤하게 평행이동시키는 범위\n",
    "    height_shift_range=0.2,\n",
    "    rescale=1./255, #1/255로 스케일링하여 0~1버위로 변환하여 효과적으로 학습\n",
    "    shear_range=0.2, #임의 전단 변환\n",
    "    zoom_range=0.2, #임의 확대/축소 범위\n",
    "    horizontal_flip=False, #이미지를 50%확률로 수평으로 뒤집음(뒤집으면 자연스럽지 않으므로, False) \n",
    "    fill_mode='nearest') #이미지를 회전, 이동하거나 축소할 때 생기는 공간 채움"
   ]
  },
  {
   "cell_type": "code",
   "execution_count": 3,
   "metadata": {},
   "outputs": [],
   "source": [
    "# 훈련용 80주념기념관 사진 디렉터리\n",
    "train_ginyeom_dir = './KWGuideImg/dataset/train/gi'\n",
    "\n",
    "# 훈련용 화도관 사진 디렉터리\n",
    "train_hwado_dir = './KWGuideImg/dataset/train/hwan'\n",
    "\n",
    "# 훈련용 새빛관 사진 디렉터리\n",
    "train_saebit_dir = './KWGuideImg/dataset/train/se'\n",
    "\n",
    "# 훈련용 비마관 사진 디렉터리\n",
    "train_bima_dir = './KWGuideImg/dataset/train/bi'\n",
    "\n",
    "# 훈련용 옥의관 사진 디렉터리\n",
    "train_oakui_dir = './KWGuideImg/dataset/train/oak'\n",
    "\n",
    "# 훈련용 한천재 사진 디렉터리\n",
    "train_hancheon_dir = './KWGuideImg/dataset/train/hanchoen'\n",
    "\n",
    "# 훈련용 복지관 사진 디렉터리\n",
    "train_bokji_dir = './KWGuideImg/dataset/train/bok'\n",
    "\n",
    "# 훈련용 연구관 사진 디렉터리\n",
    "train_yeonku_dir = './KWGuideImg/dataset/train/yeon'\n",
    "\n",
    "# 훈련용 참빛관 사진 디렉터리\n",
    "train_chambit_dir = './KWGuideImg/dataset/train/cham'\n",
    "\n",
    "# 훈련용 한울관 사진 디렉터리\n",
    "train_hanoul_dir = './KWGuideImg/dataset/train/hanoul'"
   ]
  },
  {
   "cell_type": "code",
   "execution_count": 18,
   "metadata": {},
   "outputs": [],
   "source": [
    "# 이미지 전처리 유틸리티 모듈\n",
    "from keras.preprocessing import image\n",
    "\n",
    "fnames1 = sorted([os.path.join(train_ginyeom_dir, fname) for fname in os.listdir(train_ginyeom_dir)])\n",
    "fnames2 = sorted([os.path.join(train_hwado_dir, fname) for fname in os.listdir(train_hwado_dir)])\n",
    "fnames3 = sorted([os.path.join(train_saebit_dir, fname) for fname in os.listdir(train_saebit_dir)])\n",
    "fnames4 = sorted([os.path.join(train_bima_dir, fname) for fname in os.listdir(train_bima_dir)])\n",
    "fnames5 = sorted([os.path.join(train_oakui_dir, fname) for fname in os.listdir(train_oakui_dir)])\n",
    "fnames6 = sorted([os.path.join(train_chambit_dir, fname) for fname in os.listdir(train_chambit_dir)])\n",
    "fnames7 = sorted([os.path.join(train_hanoul_dir, fname) for fname in os.listdir(train_hanoul_dir)])\n",
    "\n",
    "for img_path in fnames1:\n",
    "\n",
    "    img = image.load_img(img_path, target_size=(150, 150)) # 이미지 읽고 크기 변경\n",
    "\n",
    "    x = image.img_to_array(img) # (150, 150, 3) 크기의 넘파이 배열\n",
    "\n",
    "    x = x.reshape((1,) + x.shape) # (1, 150, 150, 3) 크기의 넘파이 배열\n",
    "\n",
    "    # flow() 메서드로 랜덤하게 변환된 이미지를 배치 단위로 생성하여 폴더에 저장\n",
    "    i = 0\n",
    "    for batch in datagen.flow(x, batch_size=1,\n",
    "                             save_to_dir='./KWGuideImg/dataset/train/gi',save_format='jpg'):\n",
    "        i += 1\n",
    "        if i > 10:\n",
    "            break #이미지 10장 생성\n",
    "\n",
    "for img_path in fnames2:\n",
    "\n",
    "    img = image.load_img(img_path, target_size=(150, 150)) # 이미지 읽고 크기 변경\n",
    "\n",
    "    x = image.img_to_array(img) # (150, 150, 3) 크기의 넘파이 배열\n",
    "\n",
    "    x = x.reshape((1,) + x.shape) # (1, 150, 150, 3) 크기의 넘파이 배열\n",
    "\n",
    "    # flow() 메서드로 랜덤하게 변환된 이미지를 배치 단위로 생성하여 폴더에 저장\n",
    "    i = 0\n",
    "    for batch in datagen.flow(x, batch_size=1,\n",
    "                             save_to_dir='./KWGuideImg/dataset/train/hwan',save_format='jpg'):\n",
    "        i += 1\n",
    "        if i > 10:\n",
    "            break #이미지 10장 생성\n",
    "for img_path in fnames3:\n",
    "\n",
    "    img = image.load_img(img_path, target_size=(150, 150)) # 이미지 읽고 크기 변경\n",
    "\n",
    "    x = image.img_to_array(img) # (150, 150, 3) 크기의 넘파이 배열\n",
    "\n",
    "    x = x.reshape((1,) + x.shape) # (1, 150, 150, 3) 크기의 넘파이 배열\n",
    "\n",
    "    # flow() 메서드로 랜덤하게 변환된 이미지를 배치 단위로 생성하여 폴더에 저장\n",
    "    i = 0\n",
    "    for batch in datagen.flow(x, batch_size=1,\n",
    "                             save_to_dir='./KWGuideImg/dataset/train/se',save_format='jpg'):\n",
    "        i += 1\n",
    "        if i > 10:\n",
    "            break #이미지 10장 생성\n",
    "for img_path in fnames4:\n",
    "\n",
    "    img = image.load_img(img_path, target_size=(150, 150)) # 이미지 읽고 크기 변경\n",
    "\n",
    "    x = image.img_to_array(img) # (150, 150, 3) 크기의 넘파이 배열\n",
    "\n",
    "    x = x.reshape((1,) + x.shape) # (1, 150, 150, 3) 크기의 넘파이 배열\n",
    "\n",
    "    # flow() 메서드로 랜덤하게 변환된 이미지를 배치 단위로 생성하여 폴더에 저장\n",
    "    i = 0\n",
    "    for batch in datagen.flow(x, batch_size=1,\n",
    "                             save_to_dir='./KWGuideImg/dataset/train/bi',save_format='jpg'):\n",
    "        i += 1\n",
    "        if i > 10:\n",
    "            break #이미지 10장 생성\n",
    "for img_path in fnames5:\n",
    "\n",
    "    img = image.load_img(img_path, target_size=(150, 150)) # 이미지 읽고 크기 변경\n",
    "\n",
    "    x = image.img_to_array(img) # (150, 150, 3) 크기의 넘파이 배열\n",
    "\n",
    "    x = x.reshape((1,) + x.shape) # (1, 150, 150, 3) 크기의 넘파이 배열\n",
    "\n",
    "    # flow() 메서드로 랜덤하게 변환된 이미지를 배치 단위로 생성하여 폴더에 저장\n",
    "    i = 0\n",
    "    for batch in datagen.flow(x, batch_size=1,\n",
    "                             save_to_dir='./KWGuideImg/dataset/train/oak',save_format='jpg'):\n",
    "        i += 1\n",
    "        if i > 10:\n",
    "            break #이미지 10장 생성\n",
    "for img_path in fnames6:\n",
    "\n",
    "    img = image.load_img(img_path, target_size=(150, 150)) # 이미지 읽고 크기 변경\n",
    "\n",
    "    x = image.img_to_array(img) # (150, 150, 3) 크기의 넘파이 배열\n",
    "\n",
    "    x = x.reshape((1,) + x.shape) # (1, 150, 150, 3) 크기의 넘파이 배열\n",
    "\n",
    "    # flow() 메서드로 랜덤하게 변환된 이미지를 배치 단위로 생성하여 폴더에 저장\n",
    "    i = 0\n",
    "    for batch in datagen.flow(x, batch_size=1,\n",
    "                             save_to_dir='./KWGuideImg/dataset/train/cham',save_format='jpg'):\n",
    "        i += 1\n",
    "        if i > 10:\n",
    "            break #이미지 10장 생성\n",
    "\n",
    "for img_path in fnames7:\n",
    "\n",
    "    img = image.load_img(img_path, target_size=(150, 150)) # 이미지 읽고 크기 변경\n",
    "\n",
    "    x = image.img_to_array(img) # (150, 150, 3) 크기의 넘파이 배열\n",
    "\n",
    "    x = x.reshape((1,) + x.shape) # (1, 150, 150, 3) 크기의 넘파이 배열\n",
    "\n",
    "    # flow() 메서드로 랜덤하게 변환된 이미지를 배치 단위로 생성하여 폴더에 저장\n",
    "    i = 0\n",
    "    for batch in datagen.flow(x, batch_size=1,\n",
    "                             save_to_dir='./KWGuideImg/dataset/train/hanoul',save_format='jpg'):\n",
    "        i += 1\n",
    "        if i > 10:\n",
    "            break #이미지 10장 생성            \n",
    "\n"
   ]
  },
  {
   "cell_type": "code",
   "execution_count": 19,
   "metadata": {},
   "outputs": [
    {
     "name": "stdout",
     "output_type": "stream",
     "text": [
      "bi  파일 길이 :  424\n",
      "bi  :  ./KWGuideImg/dataset/train/bi\\image_024.jpg\n",
      "bok  파일 길이 :  7\n",
      "bok  :  ./KWGuideImg/dataset/train/bok\\image_014.jpg\n",
      "cham  파일 길이 :  837\n",
      "cham  :  ./KWGuideImg/dataset/train/cham\\image_029.jpg\n",
      "cham  :  ./KWGuideImg/dataset/train/cham\\_0_8364.jpg\n",
      "gi  파일 길이 :  1937\n",
      "gi  :  ./KWGuideImg/dataset/train/gi\\image_001.jpg\n",
      "gi  :  ./KWGuideImg/dataset/train/gi\\_0_4265.jpg\n",
      "gi  :  ./KWGuideImg/dataset/train/gi\\_0_7438.jpg\n",
      "hanchoen  파일 길이 :  1\n",
      "hanchoen  :  ./KWGuideImg/dataset/train/hanchoen\\image_035.jpg\n",
      "hanoul  파일 길이 :  423\n",
      "hanoul  :  ./KWGuideImg/dataset/train/hanoul\\image_031.jpg\n",
      "hwan  파일 길이 :  1222\n",
      "hwan  :  ./KWGuideImg/dataset/train/hwan\\image_011.jpg\n",
      "hwan  :  ./KWGuideImg/dataset/train/hwan\\_0_6216.jpg\n",
      "oak  파일 길이 :  796\n",
      "oak  :  ./KWGuideImg/dataset/train/oak\\image_025.jpg\n",
      "oak  :  ./KWGuideImg/dataset/train/oak\\_0_884.jpg\n",
      "se  파일 길이 :  836\n",
      "se  :  ./KWGuideImg/dataset/train/se\\image_030.jpg\n",
      "se  :  ./KWGuideImg/dataset/train/se\\_0_8410.jpg\n",
      "yeon  파일 길이 :  3\n",
      "yeon  :  ./KWGuideImg/dataset/train/yeon\\image_032.jpg\n",
      "ok 6486\n"
     ]
    }
   ],
   "source": [
    "image_w = 64\n",
    "image_h = 64 #크기지정\n",
    "\n",
    "pixels = image_h * image_w * 3\n",
    "\n",
    "X = []\n",
    "y = []\n",
    "\n",
    "for idx, cat in enumerate(categories):  #각각 카테고리 마다\n",
    "    \n",
    "    label = [0 for i in range(nb_classes)] #0부터 cata 개수만큼\n",
    "    label[idx] = 1\n",
    "\n",
    "    image_ = base_dir + \"/\" + cat\n",
    "    files = glob.glob(image_+\"/*.jpg\")\n",
    "    print(cat, \" 파일 길이 : \", len(files))\n",
    "    for i, f in enumerate(files):\n",
    "        img = Image.open(f)\n",
    "        img = img.convert(\"RGB\")\n",
    "        img = img.resize((image_w, image_h))\n",
    "        data = np.asarray(img)\n",
    "\n",
    "        X.append(data)\n",
    "        y.append(label)\n",
    "\n",
    "        if i % 700 == 0:\n",
    "            print(cat, \" : \", f)\n",
    "\n",
    "X = np.array(X)\n",
    "y = np.array(y)\n",
    "#1 0 0 0 0 0 0 이면 기념관\n",
    "#0 1 0 0 0 0 0이면 화도관\n",
    "\n",
    "\n",
    "X_train, X_test, y_train, y_test = train_test_split(X, y)\n",
    "xy = (X_train, X_test, y_train, y_test)\n",
    "np.save('dataset_numpy.npy', xy) #(\"C:/KWGuideImg/dataset/test\", xy) \n",
    "\n",
    "print(\"ok\", len(y))"
   ]
  },
  {
   "cell_type": "code",
   "execution_count": 22,
   "metadata": {
    "scrolled": true
   },
   "outputs": [
    {
     "name": "stdout",
     "output_type": "stream",
     "text": [
      "(4864, 64, 64, 3)\n",
      "4864\n"
     ]
    }
   ],
   "source": [
    "#numpy 데이터 불러옴\n",
    "import os, glob, numpy as np\n",
    "from keras.models import Sequential\n",
    "from keras.layers import Conv2D, MaxPooling2D, Dense, Flatten, Dropout\n",
    "from keras.callbacks import EarlyStopping, ModelCheckpoint\n",
    "import matplotlib.pyplot as plt\n",
    "import keras.backend.tensorflow_backend as K\n",
    "import tensorflow as tf\n",
    "\n",
    "config =  tf.compat.v1.ConfigProto()\n",
    "config.gpu_options.allow_growth = True\n",
    "session = tf.compat.v1.Session(config=config)\n",
    "\n",
    "X_train, X_test, y_train, y_test = np.load('dataset_numpy.npy',allow_pickle=True)\n",
    "print(X_train.shape)\n",
    "print(X_train.shape[0])"
   ]
  },
  {
   "cell_type": "code",
   "execution_count": 23,
   "metadata": {},
   "outputs": [
    {
     "name": "stdout",
     "output_type": "stream",
     "text": [
      "ok\n"
     ]
    }
   ],
   "source": [
    "categories=os.listdir(base_dir)\n",
    "nb_classes = len(categories)\n",
    "\n",
    "#train/ test분류\n",
    "X_train = X_train.astype(float) / 255\n",
    "X_test = X_test.astype(float) / 255\n",
    "print (\"ok\")"
   ]
  },
  {
   "cell_type": "code",
   "execution_count": 24,
   "metadata": {},
   "outputs": [
    {
     "name": "stdout",
     "output_type": "stream",
     "text": [
      "ok\n"
     ]
    }
   ],
   "source": [
    "with K.tf_ops.device('/device:CPU:0'):\n",
    "    model = Sequential()\n",
    "    model.add(Conv2D(32, (3,3), padding=\"same\", input_shape=X_train.shape[1:], activation='relu'))\n",
    "    model.add(MaxPooling2D(pool_size=(2,2)))\n",
    "    model.add(Dropout(0.25))\n",
    "    \n",
    "    model.add(Conv2D(64, (3,3), padding=\"same\", activation='relu'))\n",
    "    model.add(MaxPooling2D(pool_size=(2,2)))\n",
    "    model.add(Dropout(0.25))\n",
    "    \n",
    "    model.add(Flatten())\n",
    "    model.add(Dense(256, activation='relu'))\n",
    "    model.add(Dropout(0.5))\n",
    "    model.add(Dense(nb_classes, activation='sigmoid'))\n",
    "    model.compile(loss='categorical_crossentropy', optimizer='adam', metrics=['accuracy'])\n",
    "    model_dir = './model'\n",
    "    \n",
    "    if not os.path.exists(model_dir):\n",
    "        os.mkdir(model_dir)\n",
    "    \n",
    "    model_path = model_dir + '/multi_img_classification.model'\n",
    "    checkpoint = ModelCheckpoint(filepath=model_path , monitor='val_loss', verbose=1, save_best_only=True)\n",
    "    early_stopping = EarlyStopping(monitor='val_loss', patience=6)\n",
    "    \n",
    "    print(\"ok\")"
   ]
  },
  {
   "cell_type": "code",
   "execution_count": 25,
   "metadata": {},
   "outputs": [
    {
     "name": "stdout",
     "output_type": "stream",
     "text": [
      "Model: \"sequential_2\"\n",
      "_________________________________________________________________\n",
      "Layer (type)                 Output Shape              Param #   \n",
      "=================================================================\n",
      "conv2d_3 (Conv2D)            (None, 64, 64, 32)        896       \n",
      "_________________________________________________________________\n",
      "max_pooling2d_3 (MaxPooling2 (None, 32, 32, 32)        0         \n",
      "_________________________________________________________________\n",
      "dropout_4 (Dropout)          (None, 32, 32, 32)        0         \n",
      "_________________________________________________________________\n",
      "conv2d_4 (Conv2D)            (None, 32, 32, 64)        18496     \n",
      "_________________________________________________________________\n",
      "max_pooling2d_4 (MaxPooling2 (None, 16, 16, 64)        0         \n",
      "_________________________________________________________________\n",
      "dropout_5 (Dropout)          (None, 16, 16, 64)        0         \n",
      "_________________________________________________________________\n",
      "flatten_2 (Flatten)          (None, 16384)             0         \n",
      "_________________________________________________________________\n",
      "dense_3 (Dense)              (None, 256)               4194560   \n",
      "_________________________________________________________________\n",
      "dropout_6 (Dropout)          (None, 256)               0         \n",
      "_________________________________________________________________\n",
      "dense_4 (Dense)              (None, 10)                2570      \n",
      "=================================================================\n",
      "Total params: 4,216,522\n",
      "Trainable params: 4,216,522\n",
      "Non-trainable params: 0\n",
      "_________________________________________________________________\n"
     ]
    }
   ],
   "source": [
    "model.summary()"
   ]
  },
  {
   "cell_type": "code",
   "execution_count": null,
   "metadata": {
    "scrolled": true
   },
   "outputs": [
    {
     "name": "stdout",
     "output_type": "stream",
     "text": [
      "Train on 4864 samples, validate on 1622 samples\n",
      "Epoch 1/30\n",
      "4864/4864 [==============================] - 29s 6ms/step - loss: 1.7610 - accuracy: 0.2794 - val_loss: 1.5329 - val_accuracy: 0.4118\n",
      "\n",
      "Epoch 00001: val_loss improved from inf to 1.53287, saving model to ./model/multi_img_classification.model\n",
      "Epoch 2/30\n",
      "4864/4864 [==============================] - 29s 6ms/step - loss: 1.2571 - accuracy: 0.5181 - val_loss: 0.9584 - val_accuracy: 0.6917\n",
      "\n",
      "Epoch 00002: val_loss improved from 1.53287 to 0.95838, saving model to ./model/multi_img_classification.model\n",
      "Epoch 3/30\n",
      "4864/4864 [==============================] - 30s 6ms/step - loss: 0.7726 - accuracy: 0.7222 - val_loss: 0.5386 - val_accuracy: 0.8397\n",
      "\n",
      "Epoch 00003: val_loss improved from 0.95838 to 0.53856, saving model to ./model/multi_img_classification.model\n",
      "Epoch 4/30\n",
      "4864/4864 [==============================] - 29s 6ms/step - loss: 0.4762 - accuracy: 0.8396 - val_loss: 0.2947 - val_accuracy: 0.9051\n",
      "\n",
      "Epoch 00004: val_loss improved from 0.53856 to 0.29468, saving model to ./model/multi_img_classification.model\n",
      "Epoch 5/30\n",
      "4864/4864 [==============================] - 29s 6ms/step - loss: 0.3353 - accuracy: 0.8943 - val_loss: 0.2206 - val_accuracy: 0.9359\n",
      "\n",
      "Epoch 00005: val_loss improved from 0.29468 to 0.22065, saving model to ./model/multi_img_classification.model\n",
      "Epoch 6/30\n",
      "4864/4864 [==============================] - 29s 6ms/step - loss: 0.2294 - accuracy: 0.9282 - val_loss: 0.1824 - val_accuracy: 0.9445\n",
      "\n",
      "Epoch 00006: val_loss improved from 0.22065 to 0.18239, saving model to ./model/multi_img_classification.model\n",
      "Epoch 7/30\n",
      "4864/4864 [==============================] - 29s 6ms/step - loss: 0.1938 - accuracy: 0.9416 - val_loss: 0.3018 - val_accuracy: 0.9014\n",
      "\n",
      "Epoch 00007: val_loss did not improve from 0.18239\n",
      "Epoch 8/30\n",
      "4864/4864 [==============================] - 31s 6ms/step - loss: 0.1526 - accuracy: 0.9523 - val_loss: 0.1497 - val_accuracy: 0.9494\n",
      "\n",
      "Epoch 00008: val_loss improved from 0.18239 to 0.14969, saving model to ./model/multi_img_classification.model\n",
      "Epoch 9/30\n",
      "3008/4864 [=================>............] - ETA: 10s - loss: 0.1178 - accuracy: 0.9634"
     ]
    }
   ],
   "source": [
    "#validation 변경 -> validation_split=0.2\n",
    "history = model.fit(X_train, y_train, batch_size=32, epochs=30, validation_data=(X_test, y_test), callbacks=[checkpoint, early_stopping])\n",
    "\n",
    "print(\"정확도 : %.4f\" % (model.evaluate(X_test, y_test)[1]))"
   ]
  },
  {
   "cell_type": "code",
   "execution_count": 20,
   "metadata": {
    "scrolled": true
   },
   "outputs": [
    {
     "data": {
      "image/png": "[encoded data removed]",
      "text/plain": [
       "<Figure size 432x288 with 1 Axes>"
      ]
     },
     "metadata": {
      "needs_background": "light"
     },
     "output_type": "display_data"
    }
   ],
   "source": [
    "y_vloss = history.history['val_loss']\n",
    "y_loss = history.history['loss']\n",
    "\n",
    "x_len = np.arange(len(y_loss))\n",
    "\n",
    "plt.plot(x_len, y_vloss, marker='.', c='red', label='val_set_loss')\n",
    "plt.plot(x_len, y_loss, marker='.', c='blue', label='train_set_oss')\n",
    "plt.legend()\n",
    "plt.xlabel('epochs')\n",
    "plt.ylabel('loss')\n",
    "plt.grid()\n",
    "plt.show()"
   ]
  },
  {
   "cell_type": "code",
   "execution_count": 31,
   "metadata": {},
   "outputs": [],
   "source": [
    "#img 하나만 실행"
   ]
  },
  {
   "cell_type": "code",
   "execution_count": 38,
   "metadata": {},
   "outputs": [
    {
     "data": {
      "text/plain": [
       "array([[[[0.30078125, 0.625     , 0.83984375],\n",
       "         [0.296875  , 0.62109375, 0.84765625],\n",
       "         [0.3046875 , 0.625     , 0.8515625 ],\n",
       "         ...,\n",
       "         [0.61328125, 0.82421875, 0.96484375],\n",
       "         [0.61328125, 0.82421875, 0.96484375],\n",
       "         [0.62109375, 0.83203125, 0.9609375 ]],\n",
       "\n",
       "        [[0.45703125, 0.66015625, 0.77734375],\n",
       "         [0.30078125, 0.62109375, 0.84375   ],\n",
       "         [0.3046875 , 0.62890625, 0.85546875],\n",
       "         ...,\n",
       "         [0.61328125, 0.82421875, 0.96484375],\n",
       "         [0.61328125, 0.82421875, 0.96484375],\n",
       "         [0.6171875 , 0.828125  , 0.95703125]],\n",
       "\n",
       "        [[0.51953125, 0.60546875, 0.6328125 ],\n",
       "         [0.4609375 , 0.66796875, 0.79296875],\n",
       "         [0.30078125, 0.6328125 , 0.8515625 ],\n",
       "         ...,\n",
       "         [0.609375  , 0.828125  , 0.96484375],\n",
       "         [0.609375  , 0.828125  , 0.9609375 ],\n",
       "         [0.6171875 , 0.828125  , 0.9609375 ]],\n",
       "\n",
       "        ...,\n",
       "\n",
       "        [[0.328125  , 0.453125  , 0.171875  ],\n",
       "         [0.328125  , 0.44921875, 0.16796875],\n",
       "         [0.31640625, 0.44921875, 0.1640625 ],\n",
       "         ...,\n",
       "         [0.3203125 , 0.45703125, 0.14453125],\n",
       "         [0.30859375, 0.43359375, 0.1328125 ],\n",
       "         [0.31640625, 0.4296875 , 0.125     ]],\n",
       "\n",
       "        [[0.32421875, 0.44921875, 0.1796875 ],\n",
       "         [0.29296875, 0.421875  , 0.15234375],\n",
       "         [0.30078125, 0.42578125, 0.16015625],\n",
       "         ...,\n",
       "         [0.30859375, 0.42578125, 0.140625  ],\n",
       "         [0.30078125, 0.42578125, 0.1328125 ],\n",
       "         [0.30859375, 0.43359375, 0.13671875]],\n",
       "\n",
       "        [[0.3125    , 0.453125  , 0.18359375],\n",
       "         [0.2890625 , 0.42578125, 0.1640625 ],\n",
       "         [0.3125    , 0.43359375, 0.1796875 ],\n",
       "         ...,\n",
       "         [0.28125   , 0.40625   , 0.109375  ],\n",
       "         [0.30859375, 0.4296875 , 0.13671875],\n",
       "         [0.33984375, 0.45703125, 0.15625   ]]]])"
      ]
     },
     "execution_count": 38,
     "metadata": {},
     "output_type": "execute_result"
    }
   ],
   "source": [
    "from PIL import Image\n",
    "import os, glob, numpy as np\n",
    "from keras.models import load_model\n",
    "\n",
    "test_img='./KWGuideImg/dataset/test/test_img3.jpg'\n",
    "\n",
    "img = Image.open(test_img)\n",
    "img = img.convert(\"RGB\")\n",
    "img = img.resize((image_w, image_h)) #사이즈 재조정\n",
    "data = np.asarray(img)\n",
    "\n",
    "X=np.array(data)\n",
    "\n",
    "X = X.astype(\"float\") / 256\n",
    "X = X.reshape(-1, 64, 64,3)"
   ]
  },
  {
   "cell_type": "code",
   "execution_count": 39,
   "metadata": {},
   "outputs": [
    {
     "name": "stdout",
     "output_type": "stream",
     "text": [
      "New data category :  hwan\n"
     ]
    }
   ],
   "source": [
    "pred = model.predict(X)  \n",
    "result = [np.argmax(value) for value in pred]   # 예측 값중 가장 높은 클래스 반환\n",
    "print('New data category : ',categories[result[0]]) #카테고리중 해당되는 것 반환 => 바꾸기"
   ]
  },
  {
   "cell_type": "code",
   "execution_count": null,
   "metadata": {},
   "outputs": [],
   "source": [
    "#============================================="
   ]
  },
  {
   "cell_type": "code",
   "execution_count": null,
   "metadata": {},
   "outputs": [],
   "source": [
    "from PIL import Image\n",
    "import os, glob, numpy as np\n",
    "from keras.models import load_model\n",
    "\n",
    "base_dir = ':C/KWGuideImg/dataset/test' #test img 넣기"
   ]
  },
  {
   "cell_type": "code",
   "execution_count": 33,
   "metadata": {},
   "outputs": [
    {
     "name": "stdout",
     "output_type": "stream",
     "text": [
      "[]\n",
      "[]\n"
     ]
    }
   ],
   "source": [
    "image_w = 64\n",
    "image_h = 64\n",
    "\n",
    "pixels = image_h * image_w * 3\n",
    "\n",
    "X = []\n",
    "filenames = []\n",
    "files = glob.glob(base_dir+\"/*.*\")\n",
    "for i, f in enumerate(files):\n",
    "    img = Image.open(f)\n",
    "    img = img.convert(\"RGB\")\n",
    "    img = img.resize((image_w, image_h))\n",
    "    data = np.asarray(img)\n",
    "    filenames.append(f)  #목록이 예상크기로 조정됨 근듸 왜때문에 input이 안맞는거죠\n",
    "    X.append(data)\n",
    "\n",
    "X = np.array(X)\n",
    "\n",
    "X #왜 아무것도 없을꽈??\n"
   ]
  },
  {
   "cell_type": "code",
   "execution_count": null,
   "metadata": {},
   "outputs": [],
   "source": [
    "model = load_model('./model/multi_img_classification.model')\n",
    "\n",
    "prediction = model.predict(X)\n",
    "np.set_printoptions(formatter={'float': lambda x: \"{0:0.3f}\".format(x)})\n",
    "cnt = 0\n",
    "\n",
    "#prediction = model.predict(test_generator)\n",
    "#np.set_printoptions(formatter={'float': lambda x: \"{0:0.3f}\".format(x)})\n",
    "\n",
    "for i in prediction:\n",
    "    pre_ans = i.argmax()  # 예측 레이블\n",
    "    print(i)\n",
    "    print(pre_ans)\n",
    "    pre_ans_str = ''\n",
    "    if pre_ans == 0: pre_ans_str = \"기념관\"\n",
    "    elif pre_ans == 1: pre_ans_str = \"화도관\"\n",
    "    elif pre_ans == 2: pre_ans_str = \"옥의관\"\n",
    "    elif pre_ans == 3: pre_ans_str = \"비마관\"\n",
    "    elif pre_ans == 4: pre_ans_str = \"새빛관\"\n",
    "    elif pre_ans == 5: pre_ans_str = \"참빛관\"\n",
    "    elif pre_ans == 6: pre_ans_str =\"한울관\"\n",
    "    elif pre_ans == 7: pre_ans_str =\"복지관\"\n",
    "    elif pre_ans == 8: pre_ans_str =\"한천재\"\n",
    "    else: pre_ans_str = \"연구관\"\n",
    "    \n",
    "    if i[0] >= 0.8 : print(\"해당 \"+filenames[cnt].split(\"\\\\\")[1]+\"이미지는 \"+pre_ans_str+\"로 추정됩니다.\")\n",
    "    if i[1] >= 0.8: print(\"해당 \"+filenames[cnt].split(\"\\\\\")[1]+\"이미지는 \"+pre_ans_str+\"으로 추정됩니다.\")\n",
    "    if i[2] >= 0.8: print(\"해당 \"+filenames[cnt].split(\"\\\\\")[1]+\"이미지는 \"+pre_ans_str+\"로 추정됩니다.\")\n",
    "    if i[3] >= 0.8: print(\"해당 \"+filenames[cnt].split(\"\\\\\")[1]+\"이미지는 \"+pre_ans_str+\"로 추정됩니다.\")\n",
    "    if i[4] >= 0.8: print(\"해당 \"+filenames[cnt].split(\"\\\\\")[1]+\"이미지는 \"+pre_ans_str+\"로 추정됩니다.\")\n",
    "    if i[5] >= 0.8: print(\"해당 \"+filenames[cnt].split(\"\\\\\")[1]+\"이미지는 \"+pre_ans_str+\"로 추정됩니다.\")\n",
    "    if i[6] >= 0.8: print(\"해당 \"+filenames[cnt].split(\"\\\\\")[1]+\"이미지는 \"+pre_ans_str+\"로 추정됩니다.\")\n",
    "    if i[7] >= 0.8: print(\"해당 \"+filenames[cnt].split(\"\\\\\")[1]+\"이미지는 \"+pre_ans_str+\"로 추정됩니다.\")\n",
    "    if i[8] >= 0.8: print(\"해당 \"+filenames[cnt].split(\"\\\\\")[1]+\"이미지는 \"+pre_ans_str+\"로 추정됩니다.\")\n",
    "    if i[9] >= 0.8: print(\"해당 \"+filenames[cnt].split(\"\\\\\")[1]+\"이미지는 \"+pre_ans_str+\"로 추정됩니다.\")    \n",
    "   \n",
    "    cnt += 1\n",
    "    # print(i.argmax()) #얘가 레이블 [1. 0. 0.] 이런식으로 되어 있는 것을 숫자로 바꿔주는 것.\n",
    "    # 즉 얘랑, 나중에 카테고리 데이터 불러와서 카테고리랑 비교를 해서 같으면 맞는거고, 아니면 틀린거로 취급하면 된다.\n",
    "    # 이걸 한 것은 _4.py에."
   ]
  }
 ],
 "metadata": {
  "kernelspec": {
   "display_name": "Python 3",
   "language": "python",
   "name": "python3"
  },
  "language_info": {
   "codemirror_mode": {
    "name": "ipython",
    "version": 3
   },
   "file_extension": ".py",
   "mimetype": "text/x-python",
   "name": "python",
   "nbconvert_exporter": "python",
   "pygments_lexer": "ipython3",
   "version": "3.7.6"
  }
 },
 "nbformat": 4,
 "nbformat_minor": 4
}
