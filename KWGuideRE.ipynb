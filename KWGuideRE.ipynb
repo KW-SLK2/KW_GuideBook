{
 "cells": [
  {
   "cell_type": "code",
   "execution_count": 10,
   "metadata": {},
   "outputs": [],
   "source": [
    "from PIL import Image\n",
    "import os, glob, numpy as np\n",
    "from sklearn.model_selection import train_test_split\n",
    "\n",
    "base_dir = 'C:/KWGuideImg/dataset/train'\n",
    "categories=os.listdir(base_dir) #[\"기념\",\"화도\",\"옥의\",\"비마\",\"새빛\",\"참빛\",\"한울\",\"연구\"]\n",
    "nb_classes=len(categories) #class 개수 설정\n",
    "\n",
    "\n",
    "#x_train, x_test, y_train, y_test=np.load('./KW_building')\n",
    "\n",
    "#print(x_train.shape)\n",
    "#print(y_train[:10])\n",
    "#print(x_test.shape)\n",
    "\n"
   ]
  },
  {
   "cell_type": "code",
   "execution_count": 14,
   "metadata": {},
   "outputs": [
    {
     "name": "stdout",
     "output_type": "stream",
     "text": [
      "bi  파일 길이 :  3\n",
      "bi  :  C:/KWGuideImg/dataset/train/bi\\image_024.jpg\n",
      "bok  파일 길이 :  7\n",
      "bok  :  C:/KWGuideImg/dataset/train/bok\\image_014.jpg\n",
      "cham  파일 길이 :  6\n",
      "cham  :  C:/KWGuideImg/dataset/train/cham\\image_029.jpg\n",
      "gi  파일 길이 :  15\n",
      "gi  :  C:/KWGuideImg/dataset/train/gi\\image_001.jpg\n",
      "hanchoen  파일 길이 :  1\n",
      "hanchoen  :  C:/KWGuideImg/dataset/train/hanchoen\\image_035.jpg\n",
      "hanoul  파일 길이 :  3\n",
      "hanoul  :  C:/KWGuideImg/dataset/train/hanoul\\image_031.jpg\n",
      "hwan  파일 길이 :  9\n",
      "hwan  :  C:/KWGuideImg/dataset/train/hwan\\image_011.jpg\n",
      "oak  파일 길이 :  6\n",
      "oak  :  C:/KWGuideImg/dataset/train/oak\\image_025.jpg\n",
      "se  파일 길이 :  6\n",
      "se  :  C:/KWGuideImg/dataset/train/se\\image_030.jpg\n",
      "yeon  파일 길이 :  3\n",
      "yeon  :  C:/KWGuideImg/dataset/train/yeon\\image_032.jpg\n",
      "ok 59\n"
     ]
    }
   ],
   "source": [
    "image_w = 64\n",
    "image_h = 64 #크기지정\n",
    "\n",
    "pixels = image_h * image_w * 3\n",
    "\n",
    "X = []\n",
    "y = []\n",
    "\n",
    "for idx, cat in enumerate(categories):  #각각 카테고리 마다\n",
    "    \n",
    "    label = [0 for i in range(nb_classes)] #0부터 cata 개수만큼\n",
    "    label[idx] = 1\n",
    "\n",
    "    image_ = base_dir + \"/\" + cat\n",
    "    files = glob.glob(image_+\"/*.jpg\")\n",
    "    print(cat, \" 파일 길이 : \", len(files))\n",
    "    for i, f in enumerate(files):\n",
    "        img = Image.open(f)\n",
    "        img = img.convert(\"RGB\")\n",
    "        img = img.resize((image_w, image_h))\n",
    "        data = np.asarray(img)\n",
    "\n",
    "        X.append(data)\n",
    "        y.append(label)\n",
    "\n",
    "        if i % 700 == 0:\n",
    "            print(cat, \" : \", f)\n",
    "\n",
    "X = np.array(X)\n",
    "y = np.array(y)\n",
    "#1 0 0 0 0 0 0 이면 기념관\n",
    "#0 1 0 0 0 0 0이면 화도관\n",
    "\n",
    "\n",
    "X_train, X_test, y_train, y_test = train_test_split(X, y)\n",
    "xy = (X_train, X_test, y_train, y_test)\n",
    "np.save('dataset_numpy.npy', xy) #(\"C:/KWGuideImg/dataset/test\", xy) \n",
    "\n",
    "print(\"ok\", len(y))"
   ]
  },
  {
   "cell_type": "code",
   "execution_count": 15,
   "metadata": {
    "scrolled": true
   },
   "outputs": [
    {
     "name": "stdout",
     "output_type": "stream",
     "text": [
      "(44, 64, 64, 3)\n",
      "44\n"
     ]
    }
   ],
   "source": [
    "#numpy 데이터 불러옴\n",
    "import os, glob, numpy as np\n",
    "from keras.models import Sequential\n",
    "from keras.layers import Conv2D, MaxPooling2D, Dense, Flatten, Dropout\n",
    "from keras.callbacks import EarlyStopping, ModelCheckpoint\n",
    "import matplotlib.pyplot as plt\n",
    "import keras.backend.tensorflow_backend as K\n",
    "import tensorflow as tf\n",
    "\n",
    "config =  tf.compat.v1.ConfigProto()\n",
    "config.gpu_options.allow_growth = True\n",
    "session = tf.compat.v1.Session(config=config)\n",
    "\n",
    "X_train, X_test, y_train, y_test = np.load('dataset_numpy.npy',allow_pickle=True)\n",
    "print(X_train.shape)\n",
    "print(X_train.shape[0])"
   ]
  },
  {
   "cell_type": "code",
   "execution_count": 17,
   "metadata": {},
   "outputs": [
    {
     "name": "stdout",
     "output_type": "stream",
     "text": [
      "ok\n"
     ]
    }
   ],
   "source": [
    "categories=os.listdir(base_dir)\n",
    "nb_classes = len(categories)\n",
    "\n",
    "#train/ test분류\n",
    "X_train = X_train.astype(float) / 255\n",
    "X_test = X_test.astype(float) / 255\n",
    "print (\"ok\")"
   ]
  },
  {
   "cell_type": "code",
   "execution_count": 19,
   "metadata": {},
   "outputs": [
    {
     "name": "stdout",
     "output_type": "stream",
     "text": [
      "ok\n"
     ]
    }
   ],
   "source": [
    "with K.tf_ops.device('/device:CPU:0'):\n",
    "    model = Sequential()\n",
    "    model.add(Conv2D(32, (3,3), padding=\"same\", input_shape=X_train.shape[1:], activation='relu'))\n",
    "    model.add(MaxPooling2D(pool_size=(2,2)))\n",
    "    model.add(Dropout(0.25))\n",
    "    \n",
    "    model.add(Conv2D(64, (3,3), padding=\"same\", activation='relu'))\n",
    "    model.add(MaxPooling2D(pool_size=(2,2)))\n",
    "    model.add(Dropout(0.25))\n",
    "    \n",
    "    model.add(Flatten())\n",
    "    model.add(Dense(256, activation='relu'))\n",
    "    model.add(Dropout(0.5))\n",
    "    model.add(Dense(nb_classes, activation='sigmoid'))\n",
    "    model.compile(loss='categorical_crossentropy', optimizer='adam', metrics=['accuracy'])\n",
    "    model_dir = './model'\n",
    "    \n",
    "    if not os.path.exists(model_dir):\n",
    "        os.mkdir(model_dir)\n",
    "    \n",
    "    model_path = model_dir + '/multi_img_classification.model'\n",
    "    checkpoint = ModelCheckpoint(filepath=model_path , monitor='val_loss', verbose=1, save_best_only=True)\n",
    "    early_stopping = EarlyStopping(monitor='val_loss', patience=6)\n",
    "    \n",
    "    print(\"ok\")"
   ]
  },
  {
   "cell_type": "code",
   "execution_count": 20,
   "metadata": {},
   "outputs": [
    {
     "name": "stdout",
     "output_type": "stream",
     "text": [
      "Model: \"sequential_2\"\n",
      "_________________________________________________________________\n",
      "Layer (type)                 Output Shape              Param #   \n",
      "=================================================================\n",
      "conv2d_3 (Conv2D)            (None, 64, 64, 32)        896       \n",
      "_________________________________________________________________\n",
      "max_pooling2d_3 (MaxPooling2 (None, 32, 32, 32)        0         \n",
      "_________________________________________________________________\n",
      "dropout_4 (Dropout)          (None, 32, 32, 32)        0         \n",
      "_________________________________________________________________\n",
      "conv2d_4 (Conv2D)            (None, 32, 32, 64)        18496     \n",
      "_________________________________________________________________\n",
      "max_pooling2d_4 (MaxPooling2 (None, 16, 16, 64)        0         \n",
      "_________________________________________________________________\n",
      "dropout_5 (Dropout)          (None, 16, 16, 64)        0         \n",
      "_________________________________________________________________\n",
      "flatten_2 (Flatten)          (None, 16384)             0         \n",
      "_________________________________________________________________\n",
      "dense_3 (Dense)              (None, 256)               4194560   \n",
      "_________________________________________________________________\n",
      "dropout_6 (Dropout)          (None, 256)               0         \n",
      "_________________________________________________________________\n",
      "dense_4 (Dense)              (None, 10)                2570      \n",
      "=================================================================\n",
      "Total params: 4,216,522\n",
      "Trainable params: 4,216,522\n",
      "Non-trainable params: 0\n",
      "_________________________________________________________________\n"
     ]
    }
   ],
   "source": [
    "model.summary()"
   ]
  },
  {
   "cell_type": "code",
   "execution_count": 22,
   "metadata": {
    "scrolled": true
   },
   "outputs": [
    {
     "name": "stdout",
     "output_type": "stream",
     "text": [
      "Train on 44 samples, validate on 15 samples\n",
      "Epoch 1/50\n",
      "44/44 [==============================] - 1s 15ms/step - loss: 2.3009 - accuracy: 0.1818 - val_loss: 2.2881 - val_accuracy: 0.2667\n",
      "\n",
      "Epoch 00001: val_loss improved from inf to 2.28810, saving model to ./model/multi_img_classification.model\n",
      "Epoch 2/50\n",
      "44/44 [==============================] - 0s 6ms/step - loss: 2.2792 - accuracy: 0.2500 - val_loss: 2.2486 - val_accuracy: 0.2667\n",
      "\n",
      "Epoch 00002: val_loss improved from 2.28810 to 2.24864, saving model to ./model/multi_img_classification.model\n",
      "Epoch 3/50\n",
      "44/44 [==============================] - 0s 7ms/step - loss: 2.2067 - accuracy: 0.2500 - val_loss: 2.2056 - val_accuracy: 0.2667\n",
      "\n",
      "Epoch 00003: val_loss improved from 2.24864 to 2.20557, saving model to ./model/multi_img_classification.model\n",
      "Epoch 4/50\n",
      "44/44 [==============================] - 0s 8ms/step - loss: 2.1653 - accuracy: 0.2500 - val_loss: 2.2197 - val_accuracy: 0.2667\n",
      "\n",
      "Epoch 00004: val_loss did not improve from 2.20557\n",
      "Epoch 5/50\n",
      "44/44 [==============================] - 0s 7ms/step - loss: 2.1453 - accuracy: 0.2500 - val_loss: 2.2760 - val_accuracy: 0.2667\n",
      "\n",
      "Epoch 00005: val_loss did not improve from 2.20557\n",
      "Epoch 6/50\n",
      "44/44 [==============================] - 0s 7ms/step - loss: 2.1243 - accuracy: 0.2500 - val_loss: 2.2432 - val_accuracy: 0.2667\n",
      "\n",
      "Epoch 00006: val_loss did not improve from 2.20557\n",
      "Epoch 7/50\n",
      "44/44 [==============================] - 0s 8ms/step - loss: 2.0941 - accuracy: 0.2500 - val_loss: 2.2185 - val_accuracy: 0.2667\n",
      "\n",
      "Epoch 00007: val_loss did not improve from 2.20557\n",
      "Epoch 8/50\n",
      "44/44 [==============================] - 0s 6ms/step - loss: 2.1425 - accuracy: 0.2500 - val_loss: 2.1987 - val_accuracy: 0.2667\n",
      "\n",
      "Epoch 00008: val_loss improved from 2.20557 to 2.19873, saving model to ./model/multi_img_classification.model\n",
      "Epoch 9/50\n",
      "44/44 [==============================] - 0s 7ms/step - loss: 2.0993 - accuracy: 0.2500 - val_loss: 2.1936 - val_accuracy: 0.2667\n",
      "\n",
      "Epoch 00009: val_loss improved from 2.19873 to 2.19362, saving model to ./model/multi_img_classification.model\n",
      "Epoch 10/50\n",
      "44/44 [==============================] - 0s 7ms/step - loss: 2.1116 - accuracy: 0.2500 - val_loss: 2.1943 - val_accuracy: 0.2667\n",
      "\n",
      "Epoch 00010: val_loss did not improve from 2.19362\n",
      "Epoch 11/50\n",
      "44/44 [==============================] - 0s 7ms/step - loss: 2.1183 - accuracy: 0.2500 - val_loss: 2.1977 - val_accuracy: 0.2667\n",
      "\n",
      "Epoch 00011: val_loss did not improve from 2.19362\n",
      "Epoch 12/50\n",
      "44/44 [==============================] - 0s 6ms/step - loss: 2.1396 - accuracy: 0.2500 - val_loss: 2.2027 - val_accuracy: 0.2667\n",
      "\n",
      "Epoch 00012: val_loss did not improve from 2.19362\n",
      "Epoch 13/50\n",
      "44/44 [==============================] - 0s 7ms/step - loss: 2.1023 - accuracy: 0.2500 - val_loss: 2.2075 - val_accuracy: 0.2667\n",
      "\n",
      "Epoch 00013: val_loss did not improve from 2.19362\n",
      "Epoch 14/50\n",
      "44/44 [==============================] - 0s 7ms/step - loss: 2.1210 - accuracy: 0.2500 - val_loss: 2.2095 - val_accuracy: 0.2667\n",
      "\n",
      "Epoch 00014: val_loss did not improve from 2.19362\n",
      "Epoch 15/50\n",
      "44/44 [==============================] - 0s 8ms/step - loss: 2.0830 - accuracy: 0.2500 - val_loss: 2.2083 - val_accuracy: 0.2667\n",
      "\n",
      "Epoch 00015: val_loss did not improve from 2.19362\n",
      "15/15 [==============================] - 0s 1ms/step\n",
      "정확도 : 0.2667\n"
     ]
    }
   ],
   "source": [
    "#validation 변경 -> validation_split=0.2\n",
    "history = model.fit(X_train, y_train, batch_size=32, epochs=50, validation_data=(X_test, y_test), callbacks=[checkpoint, early_stopping])\n",
    "\n",
    "print(\"정확도 : %.4f\" % (model.evaluate(X_test, y_test)[1]))"
   ]
  },
  {
   "cell_type": "code",
   "execution_count": 23,
   "metadata": {
    "scrolled": true
   },
   "outputs": [
    {
     "data": {
      "image/png": "[encoded data removed]",
      "text/plain": [
       "<Figure size 432x288 with 1 Axes>"
      ]
     },
     "metadata": {
      "needs_background": "light"
     },
     "output_type": "display_data"
    }
   ],
   "source": [
    "y_vloss = history.history['val_loss']\n",
    "y_loss = history.history['loss']\n",
    "\n",
    "x_len = np.arange(len(y_loss))\n",
    "\n",
    "plt.plot(x_len, y_vloss, marker='.', c='red', label='val_set_loss')\n",
    "plt.plot(x_len, y_loss, marker='.', c='blue', label='train_set_oss')\n",
    "plt.legend()\n",
    "plt.xlabel('epochs')\n",
    "plt.ylabel('loss')\n",
    "plt.grid()\n",
    "plt.show()"
   ]
  },
  {
   "cell_type": "code",
   "execution_count": null,
   "metadata": {},
   "outputs": [],
   "source": [
    "#img 하나만 실행"
   ]
  },
  {
   "cell_type": "code",
   "execution_count": 50,
   "metadata": {},
   "outputs": [
    {
     "data": {
      "text/plain": [
       "array([[[[0.1171875 , 0.12109375, 0.140625  ],\n",
       "         [0.16796875, 0.17578125, 0.203125  ],\n",
       "         [0.1640625 , 0.17578125, 0.203125  ],\n",
       "         ...,\n",
       "         [0.25      , 0.25      , 0.25      ],\n",
       "         [0.25      , 0.25      , 0.25      ],\n",
       "         [0.25      , 0.25      , 0.25      ]],\n",
       "\n",
       "        [[0.11328125, 0.12109375, 0.140625  ],\n",
       "         [0.16796875, 0.17578125, 0.19921875],\n",
       "         [0.1640625 , 0.17578125, 0.19921875],\n",
       "         ...,\n",
       "         [0.25      , 0.25      , 0.25      ],\n",
       "         [0.25      , 0.25      , 0.25      ],\n",
       "         [0.25      , 0.25      , 0.25      ]],\n",
       "\n",
       "        [[0.11328125, 0.12109375, 0.13671875],\n",
       "         [0.1640625 , 0.17578125, 0.1953125 ],\n",
       "         [0.16015625, 0.171875  , 0.19140625],\n",
       "         ...,\n",
       "         [0.25      , 0.25      , 0.25      ],\n",
       "         [0.25      , 0.25      , 0.25      ],\n",
       "         [0.25      , 0.25      , 0.25      ]],\n",
       "\n",
       "        ...,\n",
       "\n",
       "        [[0.43359375, 0.41015625, 0.359375  ],\n",
       "         [0.63671875, 0.6171875 , 0.5625    ],\n",
       "         [0.625     , 0.6015625 , 0.55078125],\n",
       "         ...,\n",
       "         [0.21875   , 0.22265625, 0.22265625],\n",
       "         [0.234375  , 0.2421875 , 0.2578125 ],\n",
       "         [0.1640625 , 0.14453125, 0.1484375 ]],\n",
       "\n",
       "        [[0.3984375 , 0.359375  , 0.29296875],\n",
       "         [0.57421875, 0.5       , 0.359375  ],\n",
       "         [0.5625    , 0.46875   , 0.3046875 ],\n",
       "         ...,\n",
       "         [0.1171875 , 0.125     , 0.1328125 ],\n",
       "         [0.03515625, 0.046875  , 0.0546875 ],\n",
       "         [0.        , 0.00390625, 0.01171875]],\n",
       "\n",
       "        [[0.37109375, 0.30078125, 0.19140625],\n",
       "         [0.546875  , 0.4765625 , 0.33984375],\n",
       "         [0.55078125, 0.51953125, 0.453125  ],\n",
       "         ...,\n",
       "         [0.1015625 , 0.1171875 , 0.1328125 ],\n",
       "         [0.08984375, 0.109375  , 0.1328125 ],\n",
       "         [0.16015625, 0.1640625 , 0.19140625]]]])"
      ]
     },
     "execution_count": 50,
     "metadata": {},
     "output_type": "execute_result"
    }
   ],
   "source": [
    "from PIL import Image\n",
    "import os, glob, numpy as np\n",
    "from keras.models import load_model\n",
    "\n",
    "test_img='C:/KWGuideImg/dataset/test/test_img2.jpg'\n",
    "\n",
    "#image_w = 64\n",
    "#image_h = 64\n",
    "\n",
    "#pixels = image_h * image_w * 3\n",
    "\n",
    "#files = glob.glob(base_dir+\"/*.*\") =\n",
    "#for i, f in enumerate(files):\n",
    "img = Image.open(test_img)\n",
    "img = img.convert(\"RGB\")\n",
    "img = img.resize((image_w, image_h))\n",
    "data = np.asarray(img)\n",
    "#    filenames.append(f)  #목록이 예상크기로 조정됨 근듸 왜때문에 input이 안맞는거죠\n",
    "X=np.array(data)\n",
    "\n",
    "X = X.astype(\"float\") / 256\n",
    "X = X.reshape(-1, 64, 64,3)\n",
    "\n",
    "X"
   ]
  },
  {
   "cell_type": "code",
   "execution_count": 51,
   "metadata": {},
   "outputs": [
    {
     "name": "stdout",
     "output_type": "stream",
     "text": [
      "New data category :  gi\n"
     ]
    }
   ],
   "source": [
    "pred = model.predict(X)  \n",
    "result = [np.argmax(value) for value in pred]   # 예측 값중 가장 높은 클래스 반환\n",
    "print('New data category : ',categories[result[0]]) #카테고리중 해당되는 것 반환 => 바꾸기"
   ]
  },
  {
   "cell_type": "code",
   "execution_count": null,
   "metadata": {},
   "outputs": [],
   "source": [
    "#============================================="
   ]
  },
  {
   "cell_type": "code",
   "execution_count": null,
   "metadata": {},
   "outputs": [],
   "source": [
    "from PIL import Image\n",
    "import os, glob, numpy as np\n",
    "from keras.models import load_model\n",
    "\n",
    "base_dir = ':C/KWGuideImg/dataset/test' #test img 넣기"
   ]
  },
  {
   "cell_type": "code",
   "execution_count": 33,
   "metadata": {},
   "outputs": [
    {
     "name": "stdout",
     "output_type": "stream",
     "text": [
      "[]\n",
      "[]\n"
     ]
    }
   ],
   "source": [
    "image_w = 64\n",
    "image_h = 64\n",
    "\n",
    "pixels = image_h * image_w * 3\n",
    "\n",
    "X = []\n",
    "filenames = []\n",
    "files = glob.glob(base_dir+\"/*.*\")\n",
    "for i, f in enumerate(files):\n",
    "    img = Image.open(f)\n",
    "    img = img.convert(\"RGB\")\n",
    "    img = img.resize((image_w, image_h))\n",
    "    data = np.asarray(img)\n",
    "    filenames.append(f)  #목록이 예상크기로 조정됨 근듸 왜때문에 input이 안맞는거죠\n",
    "    X.append(data)\n",
    "\n",
    "X = np.array(X)\n",
    "\n",
    "X #왜 아무것도 없을꽈??\n"
   ]
  },
  {
   "cell_type": "code",
   "execution_count": null,
   "metadata": {},
   "outputs": [],
   "source": [
    "model = load_model('./model/multi_img_classification.model')\n",
    "\n",
    "prediction = model.predict(X)\n",
    "np.set_printoptions(formatter={'float': lambda x: \"{0:0.3f}\".format(x)})\n",
    "cnt = 0\n",
    "\n",
    "#prediction = model.predict(test_generator)\n",
    "#np.set_printoptions(formatter={'float': lambda x: \"{0:0.3f}\".format(x)})\n",
    "\n",
    "for i in prediction:\n",
    "    pre_ans = i.argmax()  # 예측 레이블\n",
    "    print(i)\n",
    "    print(pre_ans)\n",
    "    pre_ans_str = ''\n",
    "    if pre_ans == 0: pre_ans_str = \"기념관\"\n",
    "    elif pre_ans == 1: pre_ans_str = \"화도관\"\n",
    "    elif pre_ans == 2: pre_ans_str = \"옥의관\"\n",
    "    elif pre_ans == 3: pre_ans_str = \"비마관\"\n",
    "    elif pre_ans == 4: pre_ans_str = \"새빛관\"\n",
    "    elif pre_ans == 5: pre_ans_str = \"참빛관\"\n",
    "    elif pre_ans == 6: pre_ans_str =\"한울관\"\n",
    "    elif pre_ans == 7: pre_ans_str =\"복지관\"\n",
    "    elif pre_ans == 8: pre_ans_str =\"한천재\"\n",
    "    else: pre_ans_str = \"연구관\"\n",
    "    \n",
    "    if i[0] >= 0.8 : print(\"해당 \"+filenames[cnt].split(\"\\\\\")[1]+\"이미지는 \"+pre_ans_str+\"로 추정됩니다.\")\n",
    "    if i[1] >= 0.8: print(\"해당 \"+filenames[cnt].split(\"\\\\\")[1]+\"이미지는 \"+pre_ans_str+\"으로 추정됩니다.\")\n",
    "    if i[2] >= 0.8: print(\"해당 \"+filenames[cnt].split(\"\\\\\")[1]+\"이미지는 \"+pre_ans_str+\"로 추정됩니다.\")\n",
    "    if i[3] >= 0.8: print(\"해당 \"+filenames[cnt].split(\"\\\\\")[1]+\"이미지는 \"+pre_ans_str+\"로 추정됩니다.\")\n",
    "    if i[4] >= 0.8: print(\"해당 \"+filenames[cnt].split(\"\\\\\")[1]+\"이미지는 \"+pre_ans_str+\"로 추정됩니다.\")\n",
    "    if i[5] >= 0.8: print(\"해당 \"+filenames[cnt].split(\"\\\\\")[1]+\"이미지는 \"+pre_ans_str+\"로 추정됩니다.\")\n",
    "    if i[6] >= 0.8: print(\"해당 \"+filenames[cnt].split(\"\\\\\")[1]+\"이미지는 \"+pre_ans_str+\"로 추정됩니다.\")\n",
    "    if i[7] >= 0.8: print(\"해당 \"+filenames[cnt].split(\"\\\\\")[1]+\"이미지는 \"+pre_ans_str+\"로 추정됩니다.\")\n",
    "    if i[8] >= 0.8: print(\"해당 \"+filenames[cnt].split(\"\\\\\")[1]+\"이미지는 \"+pre_ans_str+\"로 추정됩니다.\")\n",
    "    if i[9] >= 0.8: print(\"해당 \"+filenames[cnt].split(\"\\\\\")[1]+\"이미지는 \"+pre_ans_str+\"로 추정됩니다.\")    \n",
    "   \n",
    "    cnt += 1\n",
    "    # print(i.argmax()) #얘가 레이블 [1. 0. 0.] 이런식으로 되어 있는 것을 숫자로 바꿔주는 것.\n",
    "    # 즉 얘랑, 나중에 카테고리 데이터 불러와서 카테고리랑 비교를 해서 같으면 맞는거고, 아니면 틀린거로 취급하면 된다.\n",
    "    # 이걸 한 것은 _4.py에."
   ]
  }
 ],
 "metadata": {
  "kernelspec": {
   "display_name": "Python 3",
   "language": "python",
   "name": "python3"
  },
  "language_info": {
   "codemirror_mode": {
    "name": "ipython",
    "version": 3
   },
   "file_extension": ".py",
   "mimetype": "text/x-python",
   "name": "python",
   "nbconvert_exporter": "python",
   "pygments_lexer": "ipython3",
   "version": "3.7.6"
  }
 },
 "nbformat": 4,
 "nbformat_minor": 4
}
